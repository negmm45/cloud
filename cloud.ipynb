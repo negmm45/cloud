{
 "cells": [
  {
   "cell_type": "code",
   "execution_count": null,
   "metadata": {},
   "outputs": [],
   "source": [
    "import pandas as pd\n",
    "df = pd.read_csv('books.csv')\n",
    "\n",
    "\n",
    "# Drop rows with missing values\n",
    "df.dropna(inplace=True)\n",
    "\n",
    "#remove duplicate rows\n",
    "df.drop_duplicates(inplace=True)\n",
    "\n",
    "df.to_csv('cleaned_data.csv', index=False)\n",
    "\n",
    "HarryPotter_book = df[df['original_title'].str.contains('Harry Potter', case=False) ]\n",
    "\n",
    "average_rate=  HarryPotter_book['average_rating'].mean()\n",
    "\n",
    "print('the average rating is '+average_rate)"
   ]
  }
 ],
 "metadata": {
  "language_info": {
   "name": "python"
  }
 },
 "nbformat": 4,
 "nbformat_minor": 2
}
